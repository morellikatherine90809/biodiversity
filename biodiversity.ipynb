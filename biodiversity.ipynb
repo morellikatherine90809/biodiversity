{
 "cells": [
  {
   "cell_type": "markdown",
   "metadata": {},
   "source": [
    "Goals: Understand endangered species nationally. Data from several national parks from the National Park Service will be used to understand patterns related to certain species becoming endangered. Begin by importing libraries."
   ]
  },
  {
   "cell_type": "code",
   "execution_count": 1,
   "metadata": {},
   "outputs": [],
   "source": [
    "from matplotlib import pyplot as plt\n",
    "import pandas as pd\n",
    "import seaborn as sns\n",
    "import numpy as np"
   ]
  },
  {
   "cell_type": "markdown",
   "metadata": {},
   "source": [
    "Load data for EDA."
   ]
  },
  {
   "cell_type": "code",
   "execution_count": 2,
   "metadata": {},
   "outputs": [
    {
     "name": "stdout",
     "output_type": "stream",
     "text": [
      "Index(['scientific_name', 'park_name', 'observations'], dtype='object')\n"
     ]
    }
   ],
   "source": [
    "obvs = pd.read_csv(\"C:/Users/morel/Documents/GitHub/biodiversity/observations.csv\")\n",
    "print(obvs.columns)"
   ]
  },
  {
   "cell_type": "code",
   "execution_count": 3,
   "metadata": {},
   "outputs": [
    {
     "name": "stdout",
     "output_type": "stream",
     "text": [
      "Index(['category', 'scientific_name', 'common_names', 'conservation_status'], dtype='object')\n"
     ]
    }
   ],
   "source": [
    "spec = pd.read_csv(\"C:/Users/morel/Documents/GitHub/biodiversity/species_info.csv\")\n",
    "print(spec.columns)"
   ]
  },
  {
   "cell_type": "markdown",
   "metadata": {},
   "source": [
    "Understand cleaning needs."
   ]
  },
  {
   "cell_type": "code",
   "execution_count": 4,
   "metadata": {},
   "outputs": [
    {
     "name": "stdout",
     "output_type": "stream",
     "text": [
      "scientific_name\n",
      "False    23296\n",
      "Name: count, dtype: int64 park_name\n",
      "False    23296\n",
      "Name: count, dtype: int64 observations\n",
      "False    23296\n",
      "Name: count, dtype: int64 category\n",
      "False    5824\n",
      "Name: count, dtype: int64 scientific_name\n",
      "False    5824\n",
      "Name: count, dtype: int64 common_names\n",
      "False    5824\n",
      "Name: count, dtype: int64 conservation_status\n",
      "True     5633\n",
      "False     191\n",
      "Name: count, dtype: int64\n"
     ]
    }
   ],
   "source": [
    "print(obvs.scientific_name.isna().value_counts(), obvs.park_name.isna().value_counts(), obvs.observations.isna().value_counts(), spec.category.isna().value_counts(), spec.scientific_name.isna().value_counts(), spec.common_names.isna().value_counts(), spec.conservation_status.isna().value_counts())"
   ]
  },
  {
   "cell_type": "code",
   "execution_count": 5,
   "metadata": {},
   "outputs": [
    {
     "name": "stdout",
     "output_type": "stream",
     "text": [
      "conservation_status\n",
      "Species of Concern    161\n",
      "Endangered             16\n",
      "Threatened             10\n",
      "In Recovery             4\n",
      "Name: count, dtype: int64\n"
     ]
    }
   ],
   "source": [
    "print(spec.conservation_status.value_counts())"
   ]
  },
  {
   "cell_type": "markdown",
   "metadata": {},
   "source": [
    "In table obvs, there are no missing values. In table spec, column conservation_status has 5633 missing values. From spec.conservation_status.value_counts() other values are \"Species of Concern\" (161), \"Endangered\" (16), \"Threatened\" (10), \"In Recovery\" (4): 191 total. Lists of conservation statuses elsewhere include \"Least Concern\", these 5600-odd species appear to have 'no conservations status'. Fill them with \"Least Concern\"."
   ]
  },
  {
   "cell_type": "code",
   "execution_count": 6,
   "metadata": {},
   "outputs": [
    {
     "name": "stdout",
     "output_type": "stream",
     "text": [
      "conservation_status\n",
      "Least Concern         5633\n",
      "Species of Concern     161\n",
      "Endangered              16\n",
      "Threatened              10\n",
      "In Recovery              4\n",
      "Name: count, dtype: int64\n"
     ]
    },
    {
     "name": "stderr",
     "output_type": "stream",
     "text": [
      "C:\\Users\\morel\\AppData\\Local\\Temp\\ipykernel_1180\\3567395301.py:1: FutureWarning: A value is trying to be set on a copy of a DataFrame or Series through chained assignment using an inplace method.\n",
      "The behavior will change in pandas 3.0. This inplace method will never work because the intermediate object on which we are setting values always behaves as a copy.\n",
      "\n",
      "For example, when doing 'df[col].method(value, inplace=True)', try using 'df.method({col: value}, inplace=True)' or df[col] = df[col].method(value) instead, to perform the operation inplace on the original object.\n",
      "\n",
      "\n",
      "  spec.conservation_status.fillna(\"Least Concern\", inplace = True)\n"
     ]
    }
   ],
   "source": [
    "spec.conservation_status.fillna(\"Least Concern\", inplace = True)\n",
    "print(spec.conservation_status.value_counts())"
   ]
  },
  {
   "cell_type": "code",
   "execution_count": 7,
   "metadata": {},
   "outputs": [
    {
     "name": "stdout",
     "output_type": "stream",
     "text": [
      "False    23281\n",
      "True        15\n",
      "Name: count, dtype: int64 False    5824\n",
      "Name: count, dtype: int64\n"
     ]
    }
   ],
   "source": [
    "print(obvs.duplicated().value_counts(), spec.duplicated().value_counts())"
   ]
  },
  {
   "cell_type": "markdown",
   "metadata": {},
   "source": [
    "There are 15 dupliacted observations in obvs and no duplicated observations in spec. Remove duplicates"
   ]
  },
  {
   "cell_type": "code",
   "execution_count": 8,
   "metadata": {},
   "outputs": [
    {
     "name": "stdout",
     "output_type": "stream",
     "text": [
      "False    23281\n",
      "Name: count, dtype: int64\n"
     ]
    }
   ],
   "source": [
    "obvs = obvs.drop_duplicates()\n",
    "print(obvs.duplicated().value_counts())"
   ]
  },
  {
   "cell_type": "markdown",
   "metadata": {},
   "source": [
    "With data cleaned: which animals have which conservation status? significant difference in conservation status? mode species at each park."
   ]
  },
  {
   "cell_type": "code",
   "execution_count": 9,
   "metadata": {},
   "outputs": [
    {
     "name": "stdout",
     "output_type": "stream",
     "text": [
      "   conservation_status           category  scientific_name\n",
      "0           Endangered          Amphibian                1\n",
      "1           Endangered               Bird                4\n",
      "2           Endangered               Fish                3\n",
      "3           Endangered             Mammal                7\n",
      "4           Endangered     Vascular Plant                1\n",
      "5          In Recovery               Bird                3\n",
      "6          In Recovery             Mammal                1\n",
      "7        Least Concern          Amphibian               73\n",
      "8        Least Concern               Bird              442\n",
      "9        Least Concern               Fish              116\n",
      "10       Least Concern             Mammal              176\n",
      "11       Least Concern  Nonvascular Plant              328\n",
      "12       Least Concern            Reptile               74\n",
      "13       Least Concern     Vascular Plant             4424\n",
      "14  Species of Concern          Amphibian                4\n",
      "15  Species of Concern               Bird               72\n",
      "16  Species of Concern               Fish                4\n",
      "17  Species of Concern             Mammal               28\n",
      "18  Species of Concern  Nonvascular Plant                5\n",
      "19  Species of Concern            Reptile                5\n",
      "20  Species of Concern     Vascular Plant               43\n",
      "21          Threatened          Amphibian                2\n",
      "22          Threatened               Fish                4\n",
      "23          Threatened             Mammal                2\n",
      "24          Threatened     Vascular Plant                2\n"
     ]
    }
   ],
   "source": [
    "type_by_status = spec.groupby(['conservation_status', 'category']).scientific_name.count().reset_index()\n",
    "print(type_by_status)"
   ]
  },
  {
   "cell_type": "code",
   "execution_count": 10,
   "metadata": {},
   "outputs": [
    {
     "data": {
      "image/png": "[encoded data removed]",
      "text/plain": [
       "<Figure size 640x480 with 1 Axes>"
      ]
     },
     "metadata": {},
     "output_type": "display_data"
    },
    {
     "data": {
      "text/plain": [
       "<Figure size 640x480 with 0 Axes>"
      ]
     },
     "metadata": {},
     "output_type": "display_data"
    }
   ],
   "source": [
    "sns.barplot(x='conservation_status', y='scientific_name', hue='category', data=type_by_status[type_by_status['conservation_status'] != \"Least Concern\"], legend='auto', order=['Species of Concern', 'Threatened', 'Endangered', 'In Recovery'])\n",
    "plt.xlabel('Conservation Status')\n",
    "plt.xticks(rotation=30)\n",
    "plt.ylabel('Count of Species')\n",
    "plt.title('Number of Species per Conservation Status shown by Type of Species')\n",
    "plt.show()\n",
    "plt.clf()"
   ]
  },
  {
   "cell_type": "markdown",
   "metadata": {},
   "source": [
    "Birds, vascular plants, and mammals are the categories showing the most species classified as \"Species of Concern\". No birds are \"Threatened\" and fish are the category of species most \"Threatened\". Mammals, birds, and fish are the types of species most often \"Endangered\". Birds and mammals are the only species \"In Recovery\". Now, to understand the significance of these differences."
   ]
  },
  {
   "cell_type": "code",
   "execution_count": 11,
   "metadata": {},
   "outputs": [
    {
     "name": "stdout",
     "output_type": "stream",
     "text": [
      "  category                scientific_name  \\\n",
      "0   Mammal  Clethrionomys gapperi gapperi   \n",
      "1   Mammal                      Bos bison   \n",
      "2   Mammal                     Bos taurus   \n",
      "3   Mammal                     Ovis aries   \n",
      "4   Mammal                 Cervus elaphus   \n",
      "\n",
      "                                        common_names conservation_status  \\\n",
      "0                           Gapper's Red-Backed Vole       Least Concern   \n",
      "1                              American Bison, Bison       Least Concern   \n",
      "2  Aurochs, Aurochs, Domestic Cattle (Feral), Dom...       Least Concern   \n",
      "3  Domestic Sheep, Mouflon, Red Sheep, Sheep (Feral)       Least Concern   \n",
      "4                                      Wapiti Or Elk       Least Concern   \n",
      "\n",
      "   protected  \n",
      "0      False  \n",
      "1      False  \n",
      "2      False  \n",
      "3      False  \n",
      "4      False  \n"
     ]
    }
   ],
   "source": [
    "spec['protected'] = spec['conservation_status'] != \"Least Concern\"\n",
    "print(spec.head())"
   ]
  },
  {
   "cell_type": "code",
   "execution_count": 12,
   "metadata": {},
   "outputs": [
    {
     "name": "stdout",
     "output_type": "stream",
     "text": [
      "            category  not_protected  protected\n",
      "0          Amphibian             73          7\n",
      "1               Bird            442         79\n",
      "2               Fish            116         11\n",
      "3             Mammal            176         38\n",
      "4  Nonvascular Plant            328          5\n",
      "5            Reptile             74          5\n",
      "6     Vascular Plant           4424         46\n"
     ]
    }
   ],
   "source": [
    "protected = spec.groupby(['category', 'protected']).scientific_name.count().reset_index().pivot(columns='protected', index='category', values='scientific_name').reset_index()\n",
    "protected.columns = ['category', 'not_protected', 'protected']\n",
    "print(protected)"
   ]
  },
  {
   "cell_type": "code",
   "execution_count": 13,
   "metadata": {},
   "outputs": [
    {
     "name": "stdout",
     "output_type": "stream",
     "text": [
      "            category  not_protected  protected  percent protected\n",
      "0          Amphibian             73          7           8.750000\n",
      "1               Bird            442         79          15.163148\n",
      "2               Fish            116         11           8.661417\n",
      "3             Mammal            176         38          17.757009\n",
      "4  Nonvascular Plant            328          5           1.501502\n",
      "5            Reptile             74          5           6.329114\n",
      "6     Vascular Plant           4424         46           1.029083\n"
     ]
    }
   ],
   "source": [
    "protected['percent protected'] = protected.protected / (protected.protected + protected.not_protected) * 100\n",
    "print(protected)"
   ]
  },
  {
   "cell_type": "markdown",
   "metadata": {},
   "source": [
    "Birds and mammals are the two categories most likely to have a conservation status and be protected species. Plants are the least likely to be protected. Understand the significance in the difference."
   ]
  },
  {
   "cell_type": "code",
   "execution_count": null,
   "metadata": {},
   "outputs": [],
   "source": []
  },
  {
   "cell_type": "code",
   "execution_count": 14,
   "metadata": {},
   "outputs": [],
   "source": [
    "from scipy.stats import chi2_contingency as chi"
   ]
  },
  {
   "cell_type": "code",
   "execution_count": 15,
   "metadata": {},
   "outputs": [
    {
     "name": "stdout",
     "output_type": "stream",
     "text": [
      "   not_protected  protected\n",
      "1            442         79\n",
      "3            176         38\n"
     ]
    }
   ],
   "source": [
    "test1 = protected.loc[[1, 3], ['not_protected','protected']]\n",
    "print(test1)"
   ]
  },
  {
   "cell_type": "code",
   "execution_count": 16,
   "metadata": {},
   "outputs": [
    {
     "name": "stdout",
     "output_type": "stream",
     "text": [
      "0.5810483277947567 0.445901703047197 1 [[438.06530612  82.93469388]\n",
      " [179.93469388  34.06530612]]\n"
     ]
    }
   ],
   "source": [
    "chi2, p, dof, expected = chi(test1)\n",
    "print(chi2, p, dof, expected)"
   ]
  },
  {
   "cell_type": "markdown",
   "metadata": {},
   "source": [
    "Birds and mammals have no statistical difference between them (0.44 > .05). They are equally as likely to be protected as each other as not. Next mammals and amphibians, there is a large gap between mammals & birds and the remaining categories with amphibians being the third most protected."
   ]
  },
  {
   "cell_type": "code",
   "execution_count": 17,
   "metadata": {},
   "outputs": [
    {
     "name": "stdout",
     "output_type": "stream",
     "text": [
      "   not_protected  protected\n",
      "0             73          7\n",
      "3            176         38 2.982497748001351 0.08416928847464537 1 [[ 67.75510204  12.24489796]\n",
      " [181.24489796  32.75510204]]\n"
     ]
    }
   ],
   "source": [
    "test2 = protected.loc[[0,3], ['not_protected','protected']]\n",
    "chi2, p, dof, expected = chi(test2)\n",
    "print(test2, chi2, p, dof, expected)"
   ]
  },
  {
   "cell_type": "markdown",
   "metadata": {},
   "source": [
    "Birds, mammals, and amphibians have no statistical difference between them (0.08 > 0.05). They are equally as liekly to be protected as each other as not. Fish are the fourth most protected category."
   ]
  },
  {
   "cell_type": "code",
   "execution_count": 18,
   "metadata": {},
   "outputs": [
    {
     "name": "stdout",
     "output_type": "stream",
     "text": [
      "   not_protected  protected\n",
      "2            116         11\n",
      "3            176         38 4.644937895246063 0.0311452640827806 1 [[108.75073314  18.24926686]\n",
      " [183.24926686  30.75073314]]\n"
     ]
    }
   ],
   "source": [
    "test3 = protected.loc[[2,3], ['not_protected','protected']]\n",
    "chi2, p, dof, expected = chi(test3)\n",
    "print(test3, chi2, p, dof, expected)"
   ]
  },
  {
   "cell_type": "markdown",
   "metadata": {},
   "source": [
    "Mammals and fish are statistically different from each other (.03 < .05). Mammals are statistically more likely to be protected than fish and likely all the remaining categories."
   ]
  },
  {
   "cell_type": "code",
   "execution_count": 19,
   "metadata": {},
   "outputs": [
    {
     "name": "stdout",
     "output_type": "stream",
     "text": [
      "                   park_name        genus  observations\n",
      "0        Bryce National Park        Abies           301\n",
      "1        Bryce National Park  Abietinella           101\n",
      "2        Bryce National Park      Abronia            92\n",
      "3        Bryce National Park     Abutilon            84\n",
      "4        Bryce National Park     Acalypha           361\n",
      "...                      ...          ...           ...\n",
      "6375  Yosemite National Park      Zenaida           123\n",
      "6376  Yosemite National Park    Zigadenus           722\n",
      "6377  Yosemite National Park        Zizia           531\n",
      "6378  Yosemite National Park  Zonotrichia           910\n",
      "6379  Yosemite National Park      Zygodon           369\n",
      "\n",
      "[6380 rows x 3 columns]\n"
     ]
    }
   ],
   "source": [
    "obvs['genus'] = obvs.scientific_name.str.split(' ', expand=True)[0]\n",
    "find_max = obvs.groupby(['park_name', 'genus']).observations.sum().reset_index()\n",
    "print(find_max)"
   ]
  },
  {
   "cell_type": "code",
   "execution_count": 20,
   "metadata": {},
   "outputs": [
    {
     "name": "stdout",
     "output_type": "stream",
     "text": [
      "park_name       Bryce National Park\n",
      "genus                         Carex\n",
      "observations                  21574\n",
      "Name: 269, dtype: object\n",
      "park_name       Great Smoky Mountains National Park\n",
      "genus                                         Carex\n",
      "observations                                  16437\n",
      "Name: 1864, dtype: object\n",
      "park_name       Yellowstone National Park\n",
      "genus                               Carex\n",
      "observations                        54083\n",
      "Name: 3459, dtype: object\n",
      "park_name       Yosemite National Park\n",
      "genus                            Carex\n",
      "observations                     33236\n",
      "Name: 5054, dtype: object\n"
     ]
    }
   ],
   "source": [
    "for park in find_max.park_name.unique():\n",
    "    index = find_max[find_max.park_name == park].observations.idxmax()\n",
    "    print(find_max.loc[index])"
   ]
  },
  {
   "cell_type": "markdown",
   "metadata": {},
   "source": [
    "Carex is the most often observed genus in all four national parks. There are 21574 sightings in Bryce National Park, 16437 sightings in Great Smoky Mountains National Park, 54083 sightings in Yellowstone National Park, and 33236 sightings in Yosemite National Park. Now find the common name for reporting's sake."
   ]
  },
  {
   "cell_type": "code",
   "execution_count": 21,
   "metadata": {
    "scrolled": true
   },
   "outputs": [
    {
     "name": "stdout",
     "output_type": "stream",
     "text": [
      "1947    Carex, Sedge, Sedge Species, Sedges\n",
      "Name: common_names, dtype: object\n",
      "1948    Thicket Sedge\n",
      "Name: common_names, dtype: object\n",
      "1949    Summer Sedge\n",
      "Name: common_names, dtype: object\n",
      "1950    Glomerate Sedge\n",
      "Name: common_names, dtype: object\n",
      "1951    Whitetinge Sedge\n",
      "Name: common_names, dtype: object\n",
      "1952    Sedge\n",
      "Name: common_names, dtype: object\n",
      "1953    Sedge\n",
      "Name: common_names, dtype: object\n",
      "1954    Emmons Sedge, Sedge\n",
      "Name: common_names, dtype: object\n",
      "1955    Greenish-White Sedge, Light-Colored Sedge\n",
      "Name: common_names, dtype: object\n",
      "1956    A Sedge, Sedge\n",
      "Name: common_names, dtype: object\n",
      "1957    Eastern Narrowleaf Sedge\n",
      "Name: common_names, dtype: object\n",
      "1958    A Sedge, Rigid Sedge\n",
      "Name: common_names, dtype: object\n",
      "1959    Turgid Sedge\n",
      "Name: common_names, dtype: object\n",
      "1960    A Sedge, Sedge\n",
      "Name: common_names, dtype: object\n",
      "1961    Appalachian Sedge\n",
      "Name: common_names, dtype: object\n",
      "1962    Prickly Bog Sedge\n",
      "Name: common_names, dtype: object\n",
      "1963    Sedge\n",
      "Name: common_names, dtype: object\n",
      "1964    Prickly Bog Sedge\n",
      "Name: common_names, dtype: object\n",
      "1965    A Sedge, South Carolina Sedge\n",
      "Name: common_names, dtype: object\n",
      "1966    Bailey Sedge, Bailey's Sedge\n",
      "Name: common_names, dtype: object\n",
      "1967    Barratt's Sedge\n",
      "Name: common_names, dtype: object\n",
      "1968    Biltmore Sedge\n",
      "Name: common_names, dtype: object\n",
      "1969    Sedge, Woodland Sedge\n",
      "Name: common_names, dtype: object\n",
      "1970    Brevior Sedge, Fescue Sedge, Shortbeak Sedge\n",
      "Name: common_names, dtype: object\n",
      "1971    A Sedge, Sedge\n",
      "Name: common_names, dtype: object\n",
      "1972    Brownish Sedge\n",
      "Name: common_names, dtype: object\n",
      "1973    Brownish Sedge, Few Flowered Sedge\n",
      "Name: common_names, dtype: object\n",
      "1974    Carolina Sedge, Hirsute Sedge\n",
      "Name: common_names, dtype: object\n",
      "1975    Oval-Leaved Sedge, Sedge\n",
      "Name: common_names, dtype: object\n",
      "1976    Cherokee Sedge\n",
      "Name: common_names, dtype: object\n",
      "1977    Common Sedge, Fibrous-Root Sedge\n",
      "Name: common_names, dtype: object\n",
      "1978    Dixie Sedge\n",
      "Name: common_names, dtype: object\n",
      "1979    Fibrousroot Sedge\n",
      "Name: common_names, dtype: object\n",
      "1980    Blue Sedge\n",
      "Name: common_names, dtype: object\n",
      "1981    Soft Fox Sedge\n",
      "Name: common_names, dtype: object\n",
      "1982    Prune-Fruit Sedge\n",
      "Name: common_names, dtype: object\n",
      "1983    Coastalplain Sedge\n",
      "Name: common_names, dtype: object\n",
      "1984    Drooping Sedge\n",
      "Name: common_names, dtype: object\n",
      "1985    Sedge, Small Crested Sedge\n",
      "Name: common_names, dtype: object\n",
      "1986    Local Sedge\n",
      "Name: common_names, dtype: object\n",
      "1987    White Edge Sedge, White-Edge Sedge\n",
      "Name: common_names, dtype: object\n",
      "1988    White Edge Sedge\n",
      "Name: common_names, dtype: object\n",
      "1989    Necklace Sedge\n",
      "Name: common_names, dtype: object\n",
      "1990    Hairy Necklace Sedge\n",
      "Name: common_names, dtype: object\n",
      "1991    Necklace Sedge, White-Edge Sedge\n",
      "Name: common_names, dtype: object\n",
      "1992    Black-Fruited Sedge, Ebony Sedge\n",
      "Name: common_names, dtype: object\n",
      "1993    Fescue Sedge\n",
      "Name: common_names, dtype: object\n",
      "1994    Thinfruit Sedge\n",
      "Name: common_names, dtype: object\n",
      "1995    Frank Sedge, Frank's Sedge\n",
      "Name: common_names, dtype: object\n",
      "1996    Slender Looseflower Sedge\n",
      "Name: common_names, dtype: object\n",
      "1997    Graceful Sedge\n",
      "Name: common_names, dtype: object\n",
      "1998    Granular Sedge\n",
      "Name: common_names, dtype: object\n",
      "1999    Heavy Sedge\n",
      "Name: common_names, dtype: object\n",
      "2000    Gray's Sedge\n",
      "Name: common_names, dtype: object\n",
      "2001    Inflated Narrow-Leaf Sedge\n",
      "Name: common_names, dtype: object\n",
      "2002    A Sedge, Drooping Sedge\n",
      "Name: common_names, dtype: object\n",
      "2003    Hirsute Sedge\n",
      "Name: common_names, dtype: object\n",
      "2004    Intumescent Sedge\n",
      "Name: common_names, dtype: object\n",
      "2005    James? Sedge, Nebraska Sedge\n",
      "Name: common_names, dtype: object\n",
      "2006    Kral's Sedge\n",
      "Name: common_names, dtype: object\n",
      "2007    Sedge, Smooth-Sheath Sedge\n",
      "Name: common_names, dtype: object\n",
      "2008    Sedge, Spreading Sedge\n",
      "Name: common_names, dtype: object\n",
      "2009    Broad Looseflower Sedge, Loose-Flowered Sedge\n",
      "Name: common_names, dtype: object\n",
      "2010    Leavenworth Sedge\n",
      "Name: common_names, dtype: object\n",
      "2011                           Bristly-Stalk Sedge, Sedge\n",
      "4095    Bristlestalked Sedge, Bristly-Stalk Sedge, Bri...\n",
      "Name: common_names, dtype: object\n",
      "2012    Finely-Nerved Sedge, Nerved Sedge\n",
      "Name: common_names, dtype: object\n",
      "2013    Louisiana Sedge\n",
      "Name: common_names, dtype: object\n",
      "2014    Blue Ridge Sedge\n",
      "Name: common_names, dtype: object\n",
      "2015    Long-Beaked Sedge\n",
      "Name: common_names, dtype: object\n",
      "2016    A Sedge, Larger Hop Sedge\n",
      "Name: common_names, dtype: object\n",
      "2017    Shallow Sedge, Smaller Hop Sedge\n",
      "Name: common_names, dtype: object\n",
      "2018    Alaska Large Awn Sedge\n",
      "Name: common_names, dtype: object\n",
      "2019    Miserable Sedge, Wretched Sedge\n",
      "Name: common_names, dtype: object\n",
      "2020    Muhlenberg's Sedge\n",
      "Name: common_names, dtype: object\n",
      "2021    Black-Edge Sedge, Black-Margined Sedge\n",
      "Name: common_names, dtype: object\n",
      "2022    A Sedge, Sedge\n",
      "Name: common_names, dtype: object\n",
      "2023    Sedge\n",
      "Name: common_names, dtype: object\n",
      "2024    Sharpscale Sedge\n",
      "Name: common_names, dtype: object\n",
      "2025    Longstalk Sedge, Peduncled Sedge\n",
      "Name: common_names, dtype: object\n",
      "2026    Pennsylvania Sedge\n",
      "Name: common_names, dtype: object\n",
      "2027    Plantain-Leaved Sedge\n",
      "Name: common_names, dtype: object\n",
      "2028    Broad-Leaved Sedge, Glaucous Broad-Leaved Sedge\n",
      "Name: common_names, dtype: object\n",
      "2029    Drooping Sedge\n",
      "Name: common_names, dtype: object\n",
      "2030    Necklace Sedge, Sedge\n",
      "Name: common_names, dtype: object\n",
      "2031    Purple Sedge, Purple-Based Sedge\n",
      "Name: common_names, dtype: object\n",
      "2032    Radiate Sedge, Stellate Sedge\n",
      "Name: common_names, dtype: object\n",
      "2033    Reflexed Sedge\n",
      "Name: common_names, dtype: object\n",
      "2034    A Sedge, Roseate Sedge\n",
      "Name: common_names, dtype: object\n",
      "2035    Ruth Sedge, Ruth's Sedge\n",
      "Name: common_names, dtype: object\n",
      "2036    Rough Sedge\n",
      "Name: common_names, dtype: object\n",
      "2037    Pointed Broom Sedge, Sedge\n",
      "Name: common_names, dtype: object\n",
      "2038    Bur-Reed Sedge, Sedge\n",
      "Name: common_names, dtype: object\n",
      "2039    Round-Headed Sedge, Squarrose Sedge\n",
      "Name: common_names, dtype: object\n",
      "2040    Stalk-Grain Sedge, Stipate Sedge\n",
      "Name: common_names, dtype: object\n",
      "2041    Lined Sedge\n",
      "Name: common_names, dtype: object\n",
      "2042    Uptight Sedge\n",
      "Name: common_names, dtype: object\n",
      "2043    Bent Sedge, Sedge\n",
      "Name: common_names, dtype: object\n",
      "2044    Swan Sedge, Swan's Sedge\n",
      "Name: common_names, dtype: object\n",
      "2045    Texas Sedge\n",
      "Name: common_names, dtype: object\n",
      "2046    Parachute Sedge\n",
      "Name: common_names, dtype: object\n",
      "2047    Twisted Sedge\n",
      "Name: common_names, dtype: object\n",
      "2048    Blunt Broom Sedge, Sedge\n",
      "Name: common_names, dtype: object\n",
      "2049    Hairyfruit Sedge\n",
      "Name: common_names, dtype: object\n",
      "2050    Three-Seeded Sedge\n",
      "Name: common_names, dtype: object\n",
      "2051    A Sedge, Umbel Sedge\n",
      "Name: common_names, dtype: object\n",
      "2052    Ribbed Sedge, Sedge\n",
      "Name: common_names, dtype: object\n",
      "2053    Fox Sedge\n",
      "Name: common_names, dtype: object\n",
      "2054    Willdenow's Sedge\n",
      "Name: common_names, dtype: object\n",
      "4066    Blackandwhite Sedge, Black-And-White Sedge\n",
      "Name: common_names, dtype: object\n",
      "4067    Water Sedge\n",
      "Name: common_names, dtype: object\n",
      "4068    Awned Sedge, Slough Sedge, Wheat Sedge\n",
      "Name: common_names, dtype: object\n",
      "4069    Slenderbeak Sedge, Slender-Beak Sedge\n",
      "Name: common_names, dtype: object\n",
      "4070    Golden Sedge, Golden-Fruit Sedge\n",
      "Name: common_names, dtype: object\n",
      "4071    Back's Sedge, Rocky Mountain Sedge\n",
      "Name: common_names, dtype: object\n",
      "4072    Bebb Sedge, Bebb's Sedge\n",
      "Name: common_names, dtype: object\n",
      "4073    Brownish Sedge\n",
      "Name: common_names, dtype: object\n",
      "4074    Brown Bog Sedge, Buxbaum Sedge, Buxbaum's Sedge\n",
      "Name: common_names, dtype: object\n",
      "4075    Silver Sedge, Silvery Sedge\n",
      "Name: common_names, dtype: object\n",
      "4076    Hair Sedge, Hairlike Sedge, Hair-Like Sedge\n",
      "Name: common_names, dtype: object\n",
      "4077    Arctic Sedge, Capitate Sedge\n",
      "Name: common_names, dtype: object\n",
      "4078    Low Northern Sedge\n",
      "Name: common_names, dtype: object\n",
      "4079    Cusick's Sedge\n",
      "Name: common_names, dtype: object\n",
      "4080    Lesser Panicled Sedge, Lesser Tussock Sedge\n",
      "Name: common_names, dtype: object\n",
      "4081    Softleaf Sedge, Soft-Leaf Sedge, Softleaved Sedge\n",
      "Name: common_names, dtype: object\n",
      "4082    Douglas Sedge, Douglas' Sedge\n",
      "Name: common_names, dtype: object\n",
      "4083    Star Sedge, Stellate Sedge\n",
      "Name: common_names, dtype: object\n",
      "4084    Blackroot Sedge, Black-Root Sedge\n",
      "Name: common_names, dtype: object\n",
      "4085    Threadleaf Sedge\n",
      "Name: common_names, dtype: object\n",
      "4086    Yellow Sedge\n",
      "Name: common_names, dtype: object\n",
      "4087    Elk Sedge, Geyer's Sedge\n",
      "Name: common_names, dtype: object\n",
      "4088    Bog Sedge, Northern Bog Sedge\n",
      "Name: common_names, dtype: object\n",
      "4089    Cloud Sedge, Hayden Sedge, Hayden's Sedge\n",
      "Name: common_names, dtype: object\n",
      "4090    Hood Sedge, Hood's Sedge\n",
      "Name: common_names, dtype: object\n",
      "4091    Sheep Sedge, Smallhead Sedge\n",
      "Name: common_names, dtype: object\n",
      "4092    Inland Sedge\n",
      "Name: common_names, dtype: object\n",
      "4093    Woollyfruit Sedge, Woolly-Fruit Sedge\n",
      "Name: common_names, dtype: object\n",
      "4094    Hare Sedge, Sierra Hare Sedge, Sierrahare Sedge\n",
      "Name: common_names, dtype: object\n",
      "4096    Mud Sedge\n",
      "Name: common_names, dtype: object\n",
      "4097    Livid Sedge\n",
      "Name: common_names, dtype: object\n",
      "4098    Serrate Sedge, Woodrush Sedge\n",
      "Name: common_names, dtype: object\n",
      "4099    Falkland Island Sedge, Thickhead Sedge\n",
      "Name: common_names, dtype: object\n",
      "4100    Fewseeded Bog Sedge\n",
      "Name: common_names, dtype: object\n",
      "4101    Ovalhead Sedge, Smallwing Sedge\n",
      "Name: common_names, dtype: object\n",
      "4102    Nebraska Sedge\n",
      "Name: common_names, dtype: object\n",
      "4103    Alpine Nerve Sedge, Alpine Nerved Sedge, Alpin...\n",
      "Name: common_names, dtype: object\n",
      "4104    Black Alpine Sedge\n",
      "Name: common_names, dtype: object\n",
      "4105    Blunt Sedge, Obtuse Sedge\n",
      "Name: common_names, dtype: object\n",
      "4106    Chamisso Sedge, Thickhead Sedge\n",
      "Name: common_names, dtype: object\n",
      "4107    Parry's Sedge\n",
      "Name: common_names, dtype: object\n",
      "4108    Payson Sedge, Payson's Sedge\n",
      "Name: common_names, dtype: object\n",
      "4109    Woolly Sedge\n",
      "Name: common_names, dtype: object\n",
      "4110    Liddon Sedge, Liddon's Sedge\n",
      "Name: common_names, dtype: object\n",
      "4111    Dunehead Sedge, Dunhead Sedge\n",
      "Name: common_names, dtype: object\n",
      "4112    Broadscale Sedge\n",
      "Name: common_names, dtype: object\n",
      "4113    Early Sedge\n",
      "Name: common_names, dtype: object\n",
      "4114    Clustered Field Sedge, Slim Sedge\n",
      "Name: common_names, dtype: object\n",
      "4115    Meadow Sedge, Northern Meadow Sedge\n",
      "Name: common_names, dtype: object\n",
      "4116    Presl's Sedge\n",
      "Name: common_names, dtype: object\n",
      "4117    Pyrenean Sedge\n",
      "Name: common_names, dtype: object\n",
      "4118    Raynolds Sedge, Raynold's Sedge, Raynolds' Sedge\n",
      "Name: common_names, dtype: object\n",
      "4119    Ross Sedge, Ross' Sedge, Ross's Sedge, Shortst...\n",
      "Name: common_names, dtype: object\n",
      "4120    Curly Sedge, Rock Sedge\n",
      "Name: common_names, dtype: object\n",
      "4121    Sartwell Sedge, Sartwell's Sedge\n",
      "Name: common_names, dtype: object\n",
      "4122    Holm's Rocky Mountain Sedge, Mountain Sedge\n",
      "Name: common_names, dtype: object\n",
      "4123    Analogue Sedge, Shortbeak Sedge\n",
      "Name: common_names, dtype: object\n",
      "4124    Riverbank Sedge\n",
      "Name: common_names, dtype: object\n",
      "4125    Black Sedge, Nearlyblack Sedge\n",
      "Name: common_names, dtype: object\n",
      "4126    Northwest Territory Sedge\n",
      "Name: common_names, dtype: object\n",
      "4127    Valley Sedge\n",
      "Name: common_names, dtype: object\n",
      "4128    Blister Sedge, Lesser Bladder Sedge\n",
      "Name: common_names, dtype: object\n",
      "4129    Green Sedge, Little Green Sedge\n",
      "Name: common_names, dtype: object\n",
      "5458    Abruptbeak Sedge\n",
      "Name: common_names, dtype: object\n",
      "5459    Claspbract Sedge\n",
      "Name: common_names, dtype: object\n",
      "5460    Bigleaf Sedge\n",
      "Name: common_names, dtype: object\n",
      "5461    Common Meadow Sedge, Widefruit Sedge\n",
      "Name: common_names, dtype: object\n",
      "5462    Leafy Tussock Sedge, Water Sedge\n",
      "Name: common_names, dtype: object\n",
      "5463    Bolander Sedge, Bolander's Sedge, Wood Sedge\n",
      "Name: common_names, dtype: object\n",
      "5464    Brainerd's Sedge\n",
      "Name: common_names, dtype: object\n",
      "5465    Congdon's Sedge\n",
      "Name: common_names, dtype: object\n",
      "5466    Davy's Sedge\n",
      "Name: common_names, dtype: object\n",
      "5467    Dense Sedge\n",
      "Name: common_names, dtype: object\n",
      "5468    Greensheath Sedge\n",
      "Name: common_names, dtype: object\n",
      "5469    Shorthair Sedge\n",
      "Name: common_names, dtype: object\n",
      "5470    Canyon Sedge, Cleft Sedge\n",
      "Name: common_names, dtype: object\n",
      "5471    Fragile Sheath Sedge\n",
      "Name: common_names, dtype: object\n",
      "5472    Hasse's Sedge, Salt Sedge, Saltsedge\n",
      "Name: common_names, dtype: object\n",
      "5473    Heller's Sedge, Sierra Sedge\n",
      "Name: common_names, dtype: object\n",
      "5474    Different Nerve Sedge, Different-Nerve Sedge, ...\n",
      "Name: common_names, dtype: object\n",
      "5475    Different Nerve Sedge, Different-Nerve Sedge\n",
      "Name: common_names, dtype: object\n",
      "5476    Coastal Sand Sedge\n",
      "Name: common_names, dtype: object\n",
      "5477    Smoothbead Sedge, Smoothbeak Sedge\n",
      "Name: common_names, dtype: object\n",
      "5478    Jones Sedge, Jones' Sedge\n",
      "Name: common_names, dtype: object\n",
      "5479    Smoothstem Sedge\n",
      "Name: common_names, dtype: object\n",
      "5480    Woolly Sedge\n",
      "Name: common_names, dtype: object\n",
      "5481    Lemmon's Sedge\n",
      "Name: common_names, dtype: object\n",
      "5482    Fewrib Sedge, Lakeshore Sedge\n",
      "Name: common_names, dtype: object\n",
      "5483    Kellogg Sedge, Kellogg's Sedge\n",
      "Name: common_names, dtype: object\n",
      "5484    Littleleaf Sedge\n",
      "Name: common_names, dtype: object\n",
      "5485    Mariposa Sedge\n",
      "Name: common_names, dtype: object\n",
      "5486    Manystem Sedge\n",
      "Name: common_names, dtype: object\n",
      "5487    Manyrib Sedge\n",
      "Name: common_names, dtype: object\n",
      "5488    Nerved Sedge, Sierra Sedge\n",
      "Name: common_names, dtype: object\n",
      "5489    Naked Sedge\n",
      "Name: common_names, dtype: object\n",
      "5490    Yosemite Sedge\n",
      "Name: common_names, dtype: object\n",
      "5491    Craterlike Sedge, Mountain Sedge\n",
      "Name: common_names, dtype: object\n",
      "5492    Swamp Carex, Swamp Sedge\n",
      "Name: common_names, dtype: object\n",
      "5493    Narrowfruit Sedge\n",
      "Name: common_names, dtype: object\n",
      "5494    Showy Sedge\n",
      "Name: common_names, dtype: object\n",
      "5495    Owlfruit Sedge\n",
      "Name: common_names, dtype: object\n",
      "5496    Shasta Sedge\n",
      "Name: common_names, dtype: object\n",
      "5497    Brown Sedge\n",
      "Name: common_names, dtype: object\n",
      "5498    Tahoe Sedge\n",
      "Name: common_names, dtype: object\n",
      "5499    Tioga Pass Sedge\n",
      "Name: common_names, dtype: object\n",
      "5500    Thompkins' Sedge\n",
      "Name: common_names, dtype: object\n",
      "5501    Native Sedge, Spring Sedge\n",
      "Name: common_names, dtype: object\n",
      "5502    Whitney Sedge, Whitney's Sedge\n",
      "Name: common_names, dtype: object\n"
     ]
    }
   ],
   "source": [
    "for name in spec.scientific_name.unique():\n",
    "    if 'Carex' in name:\n",
    "        print(spec.common_names[spec.scientific_name == name])"
   ]
  },
  {
   "cell_type": "markdown",
   "metadata": {},
   "source": [
    "Sedges species of the genus Carex and are the most common species overall seen in these four national parks."
   ]
  },
  {
   "cell_type": "code",
   "execution_count": 22,
   "metadata": {},
   "outputs": [
    {
     "name": "stdout",
     "output_type": "stream",
     "text": [
      "park_name       Bryce National Park\n",
      "genus                  Lampropeltis\n",
      "observations                    854\n",
      "Name: 21, dtype: object\n",
      "park_name       Great Smoky Mountains National Park\n",
      "genus                                  Lampropeltis\n",
      "observations                                    707\n",
      "Name: 59, dtype: object\n",
      "park_name       Yellowstone National Park\n",
      "genus                        Lampropeltis\n",
      "observations                         1960\n",
      "Name: 97, dtype: object\n",
      "park_name       Yosemite National Park\n",
      "genus                     Lampropeltis\n",
      "observations                      1153\n",
      "Name: 135, dtype: object\n"
     ]
    }
   ],
   "source": [
    "overview = pd.merge(spec, obvs, on='scientific_name', how='inner')\n",
    "reptiles = overview[overview.category == 'Reptile']\n",
    "find_max = reptiles.groupby(['park_name', 'genus']).observations.sum().reset_index()\n",
    "for park in find_max.park_name.unique():\n",
    "    index = find_max[find_max.park_name == park].observations.idxmax()\n",
    "    print(find_max.loc[index])"
   ]
  },
  {
   "cell_type": "markdown",
   "metadata": {},
   "source": [
    "Lampropeltis is the most often observed reptile genus in all four national parks. There are 854 sightings in Bryce National Park, 707 sightings in Great Smoky Mountains National Park, 1960 sightings in Yellowstone National Park, and 1153 sightings in Yosemite National Park. Now find the common name for reporting's sake."
   ]
  },
  {
   "cell_type": "code",
   "execution_count": 23,
   "metadata": {},
   "outputs": [
    {
     "name": "stdout",
     "output_type": "stream",
     "text": [
      "371    Kingsnakes, Milk Snakes\n",
      "Name: common_names, dtype: object\n",
      "372    Mole Kingsnake\n",
      "Name: common_names, dtype: object\n",
      "373    Eastern Kingsnake\n",
      "Name: common_names, dtype: object\n",
      "374    Black Kingsnake\n",
      "Name: common_names, dtype: object\n",
      "375    Scarlet Kingsnake\n",
      "Name: common_names, dtype: object\n",
      "376    Eastern Milk Snake\n",
      "Name: common_names, dtype: object\n",
      "4583    California Kingsnake\n",
      "Name: common_names, dtype: object\n",
      "4584    Sierra Mountain Kingsnake\n",
      "Name: common_names, dtype: object\n"
     ]
    }
   ],
   "source": [
    "for name in spec.scientific_name.unique():\n",
    "    if 'Lampropeltis' in name:\n",
    "        print(spec.common_names[spec.scientific_name == name])"
   ]
  },
  {
   "cell_type": "markdown",
   "metadata": {},
   "source": [
    "Lampropeltis are Kingsnakes. They are the most often observed reptile in these 4 national parks."
   ]
  },
  {
   "cell_type": "code",
   "execution_count": 24,
   "metadata": {},
   "outputs": [
    {
     "data": {
      "image/png": "[encoded data removed]",
      "text/plain": [
       "<Figure size 640x480 with 1 Axes>"
      ]
     },
     "metadata": {},
     "output_type": "display_data"
    }
   ],
   "source": [
    "sns.barplot(x=reptiles.park_name, y=reptiles.observations, hue=reptiles.protected)\n",
    "plt.xlabel('National Park')\n",
    "plt.ylabel('Observations of Reptiles')\n",
    "plt.title('Observations of Protected and Not Protected Reptiles throughout a week')\n",
    "plt.xticks(rotation = 30)\n",
    "plt.show()\n",
    "plt.close()"
   ]
  },
  {
   "cell_type": "code",
   "execution_count": 25,
   "metadata": {},
   "outputs": [
    {
     "name": "stdout",
     "output_type": "stream",
     "text": [
      "park_name       Bryce National Park\n",
      "genus                        Myotis\n",
      "observations                   2164\n",
      "Name: 91, dtype: object\n",
      "park_name       Great Smoky Mountains National Park\n",
      "genus                                        Myotis\n",
      "observations                                   1319\n",
      "Name: 240, dtype: object\n",
      "park_name       Yellowstone National Park\n",
      "genus                              Myotis\n",
      "observations                         4774\n",
      "Name: 389, dtype: object\n",
      "park_name       Yosemite National Park\n",
      "genus                           Myotis\n",
      "observations                      2871\n",
      "Name: 538, dtype: object\n"
     ]
    }
   ],
   "source": [
    "overview = pd.merge(spec, obvs, on='scientific_name', how='inner')\n",
    "overview['protected'] = overview['protected'].replace({True: 'Yes', False: 'No'})\n",
    "most_protected = overview[overview.protected == 'Yes']\n",
    "find_max = most_protected.groupby(['park_name', 'genus']).observations.sum().reset_index()\n",
    "for park in find_max.park_name.unique():\n",
    "    index = find_max[find_max.park_name == park].observations.idxmax()\n",
    "    print(find_max.loc[index])"
   ]
  },
  {
   "cell_type": "markdown",
   "metadata": {},
   "source": [
    "Myotis is the most often observed protected genus in all four national parks. There are 2164 sightings in Bryce National Park, 1319 sightings in Great Smoky Mountains National Park, 4774 sightings in Yellowstone National Park, and 2871 sightings in Yosemite National Park. Now find the common name for reporting's sake."
   ]
  },
  {
   "cell_type": "code",
   "execution_count": 26,
   "metadata": {
    "scrolled": true
   },
   "outputs": [
    {
     "name": "stdout",
     "output_type": "stream",
     "text": [
      "33    Mississippi Myotis, Southeastern Myotis\n",
      "Name: common_names, dtype: object\n",
      "34    Gray Myotis\n",
      "Name: common_names, dtype: object\n",
      "35    Keen's Myotis\n",
      "Name: common_names, dtype: object\n",
      "36    Eastern Small-Footed Bat, Eastern Small-Footed...\n",
      "Name: common_names, dtype: object\n",
      "37                  Little Brown Bat, Little Brown Myotis\n",
      "3042    Little Brown Bat, Little Brown Myotis, Little ...\n",
      "4467                                  Little Brown Myotis\n",
      "Name: common_names, dtype: object\n",
      "38    Northern Long-Eared Bat, Northern Myotis\n",
      "Name: common_names, dtype: object\n",
      "39    Indiana Bat, Indiana Or Social Myotis\n",
      "Name: common_names, dtype: object\n",
      "3039    California Myotis, California Myotis, Californ...\n",
      "4465                                    California Myotis\n",
      "Name: common_names, dtype: object\n",
      "3040    Small-Footed Myotis, Western Small-Footed Bat,...\n",
      "4466                                  Small-Footed Myotis\n",
      "Name: common_names, dtype: object\n",
      "3041    Long-Eared Myotis, Long-Eared Myotis\n",
      "Name: common_names, dtype: object\n",
      "3043    Fringed Myotis, Fringed Myotis\n",
      "Name: common_names, dtype: object\n",
      "3044    Long-Legged Myotis, Long-Legged Myotis\n",
      "Name: common_names, dtype: object\n",
      "3045    Yuma Myotis, Yuma Myotis\n",
      "Name: common_names, dtype: object\n"
     ]
    }
   ],
   "source": [
    "for name in spec.scientific_name.unique():\n",
    "    if 'Myotis' in name:\n",
    "        print(spec.common_names[spec.scientific_name == name])"
   ]
  },
  {
   "cell_type": "markdown",
   "metadata": {},
   "source": [
    "Myotis are bats. They are the most often observed protected species in these four national parks."
   ]
  },
  {
   "cell_type": "code",
   "execution_count": 27,
   "metadata": {},
   "outputs": [
    {
     "name": "stdout",
     "output_type": "stream",
     "text": [
      "park_name       Bryce National Park\n",
      "genus                    Chasmistes\n",
      "observations                     23\n",
      "Name: 33, dtype: object\n",
      "park_name       Great Smoky Mountains National Park\n",
      "genus                                          Grus\n",
      "observations                                     13\n",
      "Name: 212, dtype: object\n",
      "park_name       Yellowstone National Park\n",
      "genus                                Grus\n",
      "observations                           57\n",
      "Name: 361, dtype: object\n",
      "park_name       Yosemite National Park\n",
      "genus                       Chasmistes\n",
      "observations                        35\n",
      "Name: 480, dtype: object\n"
     ]
    }
   ],
   "source": [
    "overview = pd.merge(spec, obvs, on='scientific_name', how='inner')\n",
    "overview['protected'] = overview['protected'].replace({True: 'Yes', False: 'No'})\n",
    "most_protected = overview[overview.protected == 'Yes']\n",
    "find_min = most_protected.groupby(['park_name', 'genus']).observations.sum().reset_index()\n",
    "for park in find_min.park_name.unique():\n",
    "    index = find_min[find_min.park_name == park].observations.idxmin()\n",
    "    print(find_max.loc[index])"
   ]
  },
  {
   "cell_type": "markdown",
   "metadata": {},
   "source": [
    "There are two least often observed protected genuses. Chasmistes was sighted 23 times in Bryce National Park and 35 times in Yosemite National Park. Grus was sighted 13 times in Great Smokey Mountains National Park and 57 times in Yellowstone National Park. Find common names."
   ]
  },
  {
   "cell_type": "code",
   "execution_count": 30,
   "metadata": {},
   "outputs": [
    {
     "name": "stdout",
     "output_type": "stream",
     "text": [
      "3275    June Sucker\n",
      "Name: common_names, dtype: object\n"
     ]
    }
   ],
   "source": [
    "for name in spec.scientific_name.unique():\n",
    "    if 'Chasmistes' in name:\n",
    "        print(spec.common_names[spec.scientific_name == name])"
   ]
  },
  {
   "cell_type": "markdown",
   "metadata": {},
   "source": [
    "Chasmistes are June Suckers, a species of fish."
   ]
  },
  {
   "cell_type": "code",
   "execution_count": 31,
   "metadata": {},
   "outputs": [
    {
     "name": "stdout",
     "output_type": "stream",
     "text": [
      "173    Whooping Crane\n",
      "Name: common_names, dtype: object\n",
      "174    Sandhill Crane\n",
      "Name: common_names, dtype: object\n"
     ]
    }
   ],
   "source": [
    "for name in spec.scientific_name.unique():\n",
    "    if 'Grus' in name:\n",
    "        print(spec.common_names[spec.scientific_name == name])"
   ]
  },
  {
   "cell_type": "markdown",
   "metadata": {},
   "source": [
    "Grus are species of crane."
   ]
  },
  {
   "cell_type": "code",
   "execution_count": 34,
   "metadata": {},
   "outputs": [
    {
     "data": {
      "image/png": "[encoded data removed]",
      "text/plain": [
       "<Figure size 640x480 with 1 Axes>"
      ]
     },
     "metadata": {},
     "output_type": "display_data"
    }
   ],
   "source": [
    "overview = pd.merge(spec, obvs, on='scientific_name', how='inner')\n",
    "overview['protected'] = overview['protected'].replace({True: 'Yes', False: 'No'})\n",
    "mammals = overview[overview.category == 'Mammal']\n",
    "sns.barplot(x=mammals.park_name, y=mammals.observations, hue=mammals.protected)\n",
    "plt.xlabel('National Park')\n",
    "plt.ylabel('Observations of Mammals')\n",
    "plt.title('Observations of Protected and Not Protected Mammals throughout a week')\n",
    "plt.xticks(rotation = 30)\n",
    "plt.show()\n",
    "plt.close()"
   ]
  },
  {
   "cell_type": "markdown",
   "metadata": {},
   "source": [
    "Protected mammals are seen less often than unprotected mammals."
   ]
  },
  {
   "cell_type": "markdown",
   "metadata": {},
   "source": [
    "Conclusions: Only 191 species had a conservaiton status and the remaining 5600-odd were not protected. Mammals were significantly more likely to be protected than every category expect birds. Birds and mammals had similar proportions of protected speices. Sedges were the most spotted species overall and kingsnakes were the most spotted reptile species. Both were most often spotted in Yellowstone National park. Also msot often spotted in Yellowstone National Park are bat species which are the protected species that is most often spottted (4774 sightings in Yellowstone). Out of the protected species, there are two that are least often seen. A fish called the June Sucker was only seen 35 times at the most at Yosemite National Park and 23 times at the least at Bryce National Park. The least often seen species were cranes: seen only 13 times in Great Smokey Mountains National Park but also 57 times at Yellowstone National Park. These two species were not seen at all in each other's parks."
   ]
  },
  {
   "cell_type": "code",
   "execution_count": null,
   "metadata": {},
   "outputs": [],
   "source": []
  }
 ],
 "metadata": {
  "kernelspec": {
   "display_name": "Python 3 (ipykernel)",
   "language": "python",
   "name": "python3"
  },
  "language_info": {
   "codemirror_mode": {
    "name": "ipython",
    "version": 3
   },
   "file_extension": ".py",
   "mimetype": "text/x-python",
   "name": "python",
   "nbconvert_exporter": "python",
   "pygments_lexer": "ipython3",
   "version": "3.11.9"
  }
 },
 "nbformat": 4,
 "nbformat_minor": 4
}
